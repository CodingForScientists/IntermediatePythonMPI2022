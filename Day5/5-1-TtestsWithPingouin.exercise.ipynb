{
  "cells": [
    {
      "cell_type": "code",
      "execution_count": 131,
      "id": "7438b378",
      "metadata": {},
      "outputs": [],
      "source": [
        "%pip install --upgrade numpy matplotlib scipy pingouin hvplot holoviews seaborn"
      ]
    },
    {
      "cell_type": "code",
      "execution_count": 114,
      "id": "b517f752",
      "metadata": {},
      "outputs": [],
      "source": [
        "%matplotlib inline"
      ]
    },
    {
      "cell_type": "markdown",
      "id": "56c3d653",
      "metadata": {
        "cell_id": "00003-44f1e943-1946-4d75-ad48-00950d13809a",
        "deepnote_cell_type": "markdown",
        "id": "athletic-conditioning"
      },
      "source": [
        "# T-Tests with Pingouin\n",
        "\n",
        "**Scipy.Stats** has all the stats functions you know and love from stats class!\n",
        "\n",
        "[**Pingouin**](https://pingouin-stats.org/index.html) does, too!  Pingouin is a new statistics package in Python that wraps pandas and scipy-stats, creating more-complete statistics reports and presenting the results in a more readable way.\n",
        "\n",
        "\n",
        "\n"
      ]
    },
    {
      "cell_type": "markdown",
      "id": "f011e52f",
      "metadata": {
        "cell_id": "00006-7ecfd47a-9742-49cd-ab32-67732ccc818b",
        "deepnote_cell_type": "markdown",
        "tags": []
      },
      "source": [
        "### T-Tests\n",
        "\n",
        "T-tests compare the means of two samples of data generated from a normally-distributed population and compute the probability that they have the same mean. Both packages have functions for t-tests! \n",
        "\n",
        "\n",
        "| Test, | `pengouin` Function | `scipy.stats` Function, | \n",
        "| :--- | :--- | :--- |\n",
        "| One-Sampled T-Test | `pg.ttest(x, 0)` | `stats.ttest_1samp(x, 0)`  |\n",
        "| Independent T-Test | `pg.ttest(x, y)` | `stats.ttest_ind(x, y)` | \n",
        "| Paired T-test | `pg.ttest(x, y, paired=True)` | `stats.ttest_rel(x, y)` | \n",
        "| Pairwise T-tests | `pg.pairwise_ttests(padjust='fdr_bh')`  |  |\n"
      ]
    },
    {
      "cell_type": "code",
      "execution_count": 115,
      "id": "050439d6",
      "metadata": {
        "cell_id": "00007-c41041df-aa03-4b5f-808e-68b79b41952b",
        "deepnote_cell_type": "code",
        "deepnote_to_be_reexecuted": false,
        "execution_millis": 4,
        "execution_start": 1636618509664,
        "source_hash": "fb7cc69d",
        "tags": []
      },
      "outputs": [],
      "source": [
        "import numpy as np\n",
        "import pandas as pd\n",
        "import pingouin as pg\n",
        "import seaborn as sns"
      ]
    },
    {
      "cell_type": "markdown",
      "id": "8769dd0f",
      "metadata": {
        "cell_id": "00007-cd4f75ec-03f0-4143-a914-e14ba3feff58",
        "deepnote_cell_type": "markdown",
        "tags": []
      },
      "source": [
        "**Exercises** let's do some analysis on some fake data to get a feel for these two statistics tools."
      ]
    },
    {
      "cell_type": "markdown",
      "id": "838e762d",
      "metadata": {
        "cell_id": "00005-d9203f16-7bbf-45ba-88e1-ad09099e7f62",
        "deepnote_cell_type": "markdown",
        "deepnote_to_be_reexecuted": false,
        "execution_millis": 42,
        "execution_start": 1636618898586,
        "source_hash": "8ddf4792",
        "tags": []
      },
      "source": [
        "Generate the Data: Run the code below to create the dataset `df`."
      ]
    },
    {
      "cell_type": "code",
      "execution_count": 25,
      "id": "94ff3c3a",
      "metadata": {
        "cell_id": "00005-3bfe7d22-ac1b-4281-8239-9840b84be665",
        "deepnote_cell_type": "code",
        "deepnote_to_be_reexecuted": false,
        "execution_millis": 157,
        "execution_start": 1636618872868,
        "source_hash": "30d6b9bd",
        "tags": []
      },
      "outputs": [
        {
          "data": {},
          "metadata": {},
          "output_type": "display_data"
        },
        {
          "data": {
            "application/vnd.holoviews_exec.v0+json": "",
            "text/html": [
              "<div id='1254'>\n",
              "  <div class=\"bk-root\" id=\"83c1c89e-ac8f-4bb2-aaee-f1f15d0dbd1c\" data-root-id=\"1254\"></div>\n",
              "</div>\n",
              "<script type=\"application/javascript\">(function(root) {\n",
              "  function embed_document(root) {\n",
              "    var docs_json = {\"baffffed-6af1-4ada-9699-9559e5e1161f\":{\"defs\":[{\"extends\":null,\"module\":null,\"name\":\"ReactiveHTML1\",\"overrides\":[],\"properties\":[]},{\"extends\":null,\"module\":null,\"name\":\"FlexBox1\",\"overrides\":[],\"properties\":[{\"default\":\"flex-start\",\"kind\":null,\"name\":\"align_content\"},{\"default\":\"flex-start\",\"kind\":null,\"name\":\"align_items\"},{\"default\":\"row\",\"kind\":null,\"name\":\"flex_direction\"},{\"default\":\"wrap\",\"kind\":null,\"name\":\"flex_wrap\"},{\"default\":\"flex-start\",\"kind\":null,\"name\":\"justify_content\"}]},{\"extends\":null,\"module\":null,\"name\":\"GridStack1\",\"overrides\":[],\"properties\":[{\"default\":\"warn\",\"kind\":null,\"name\":\"mode\"},{\"default\":null,\"kind\":null,\"name\":\"ncols\"},{\"default\":null,\"kind\":null,\"name\":\"nrows\"},{\"default\":true,\"kind\":null,\"name\":\"allow_resize\"},{\"default\":true,\"kind\":null,\"name\":\"allow_drag\"},{\"default\":[],\"kind\":null,\"name\":\"state\"}]},{\"extends\":null,\"module\":null,\"name\":\"click1\",\"overrides\":[],\"properties\":[{\"default\":\"\",\"kind\":null,\"name\":\"terminal_output\"},{\"default\":\"\",\"kind\":null,\"name\":\"debug_name\"},{\"default\":0,\"kind\":null,\"name\":\"clears\"}]},{\"extends\":null,\"module\":null,\"name\":\"NotificationAreaBase1\",\"overrides\":[],\"properties\":[{\"default\":\"bottom-right\",\"kind\":null,\"name\":\"position\"},{\"default\":0,\"kind\":null,\"name\":\"_clear\"}]},{\"extends\":null,\"module\":null,\"name\":\"NotificationArea1\",\"overrides\":[],\"properties\":[{\"default\":[],\"kind\":null,\"name\":\"notifications\"},{\"default\":\"bottom-right\",\"kind\":null,\"name\":\"position\"},{\"default\":0,\"kind\":null,\"name\":\"_clear\"},{\"default\":[{\"background\":\"#ffc107\",\"icon\":{\"className\":\"fas fa-exclamation-triangle\",\"color\":\"white\",\"tagName\":\"i\"},\"type\":\"warning\"},{\"background\":\"#007bff\",\"icon\":{\"className\":\"fas fa-info-circle\",\"color\":\"white\",\"tagName\":\"i\"},\"type\":\"info\"}],\"kind\":null,\"name\":\"types\"}]},{\"extends\":null,\"module\":null,\"name\":\"Notification\",\"overrides\":[],\"properties\":[{\"default\":null,\"kind\":null,\"name\":\"background\"},{\"default\":3000,\"kind\":null,\"name\":\"duration\"},{\"default\":null,\"kind\":null,\"name\":\"icon\"},{\"default\":\"\",\"kind\":null,\"name\":\"message\"},{\"default\":null,\"kind\":null,\"name\":\"notification_type\"},{\"default\":false,\"kind\":null,\"name\":\"_destroyed\"}]},{\"extends\":null,\"module\":null,\"name\":\"TemplateActions1\",\"overrides\":[],\"properties\":[{\"default\":0,\"kind\":null,\"name\":\"open_modal\"},{\"default\":0,\"kind\":null,\"name\":\"close_modal\"}]},{\"extends\":null,\"module\":null,\"name\":\"MaterialTemplateActions1\",\"overrides\":[],\"properties\":[{\"default\":0,\"kind\":null,\"name\":\"open_modal\"},{\"default\":0,\"kind\":null,\"name\":\"close_modal\"}]}],\"roots\":{\"references\":[{\"attributes\":{},\"id\":\"1343\",\"type\":\"Selection\"},{\"attributes\":{\"line_alpha\":{\"value\":0.2},\"x0\":{\"field\":\"x0\"},\"x1\":{\"field\":\"x1\"},\"y0\":{\"field\":\"y0\"},\"y1\":{\"field\":\"y1\"}},\"id\":\"1316\",\"type\":\"Segment\"},{\"attributes\":{},\"id\":\"1276\",\"type\":\"PanTool\"},{\"attributes\":{\"axis_label\":\"\",\"coordinates\":null,\"formatter\":{\"id\":\"1337\"},\"group\":null,\"major_label_policy\":{\"id\":\"1338\"},\"ticker\":{\"id\":\"1272\"}},\"id\":\"1271\",\"type\":\"LinearAxis\"},{\"attributes\":{\"axis\":{\"id\":\"1271\"},\"coordinates\":null,\"dimension\":1,\"grid_line_color\":null,\"group\":null,\"ticker\":null},\"id\":\"1274\",\"type\":\"Grid\"},{\"attributes\":{},\"id\":\"1272\",\"type\":\"BasicTicker\"},{\"attributes\":{},\"id\":\"1277\",\"type\":\"WheelZoomTool\"},{\"attributes\":{\"data\":{\"Variable\":[\"A\",\"B\",\"C\",\"D\"],\"bottom\":{\"__ndarray__\":\"cC4oAp7ukj/YDF1hyh7WP/ID6kGUA+o/6jz8TPjbrz8=\",\"dtype\":\"float64\",\"order\":\"little\",\"shape\":[4]},\"index\":[\"A\",\"B\",\"C\",\"D\"],\"top\":{\"__ndarray__\":\"PYnu+riW3L9yAqyjHS3iv7AiyPDqFp2/WoIA1M3LsL8=\",\"dtype\":\"float64\",\"order\":\"little\",\"shape\":[4]},\"value\":{\"__ndarray__\":\"cC4oAp7ukj/YDF1hyh7WP/ID6kGUA+o/6jz8TPjbrz8=\",\"dtype\":\"float64\",\"order\":\"little\",\"shape\":[4]}},\"selected\":{\"id\":\"1392\"},\"selection_policy\":{\"id\":\"1391\"}},\"id\":\"1358\",\"type\":\"ColumnDataSource\"},{\"attributes\":{\"source\":{\"id\":\"1328\"}},\"id\":\"1334\",\"type\":\"CDSView\"},{\"attributes\":{},\"id\":\"1275\",\"type\":\"SaveTool\"},{\"attributes\":{\"overlay\":{\"id\":\"1280\"}},\"id\":\"1278\",\"type\":\"BoxZoomTool\"},{\"attributes\":{\"line_alpha\":{\"value\":1.0},\"line_cap\":{\"value\":\"butt\"},\"line_color\":{\"value\":\"black\"},\"line_dash\":{\"value\":[]},\"line_dash_offset\":{\"value\":0},\"line_join\":{\"value\":\"bevel\"},\"line_width\":{\"value\":1},\"x0\":{\"field\":\"x0\"},\"x1\":{\"field\":\"x1\"},\"y0\":{\"field\":\"y0\"},\"y1\":{\"field\":\"y1\"}},\"id\":\"1311\",\"type\":\"Segment\"},{\"attributes\":{},\"id\":\"1279\",\"type\":\"ResetTool\"},{\"attributes\":{\"coordinates\":null,\"data_source\":{\"id\":\"1358\"},\"glyph\":{\"id\":\"1360\"},\"group\":null,\"hover_glyph\":null,\"muted_glyph\":{\"id\":\"1362\"},\"nonselection_glyph\":{\"id\":\"1361\"},\"selection_glyph\":{\"id\":\"1365\"},\"view\":{\"id\":\"1364\"}},\"id\":\"1363\",\"type\":\"GlyphRenderer\"},{\"attributes\":{\"bottom_units\":\"screen\",\"coordinates\":null,\"fill_alpha\":0.5,\"fill_color\":\"lightgrey\",\"group\":null,\"left_units\":\"screen\",\"level\":\"overlay\",\"line_alpha\":1.0,\"line_color\":\"black\",\"line_dash\":[4,4],\"line_width\":2,\"right_units\":\"screen\",\"syncable\":false,\"top_units\":\"screen\"},\"id\":\"1280\",\"type\":\"BoxAnnotation\"},{\"attributes\":{},\"id\":\"1344\",\"type\":\"UnionRenderers\"},{\"attributes\":{},\"id\":\"1392\",\"type\":\"Selection\"},{\"attributes\":{},\"id\":\"1345\",\"type\":\"Selection\"},{\"attributes\":{\"angle\":{\"value\":0.0},\"fill_alpha\":{\"value\":1.0},\"fill_color\":{\"value\":\"black\"},\"hatch_alpha\":{\"value\":1.0},\"hatch_color\":{\"value\":\"black\"},\"hatch_scale\":{\"value\":12.0},\"hatch_weight\":{\"value\":1.0},\"line_alpha\":{\"value\":1.0},\"line_cap\":{\"value\":\"butt\"},\"line_color\":{\"value\":\"black\"},\"line_dash\":{\"value\":[]},\"line_dash_offset\":{\"value\":0},\"line_join\":{\"value\":\"bevel\"},\"line_width\":{\"value\":1},\"size\":{\"value\":4},\"x\":{\"field\":\"index\"},\"y\":{\"field\":\"value\"}},\"id\":\"1295\",\"type\":\"Circle\"},{\"attributes\":{\"coordinates\":null,\"data_source\":{\"id\":\"1304\"},\"glyph\":{\"id\":\"1306\"},\"group\":null,\"hover_glyph\":null,\"muted_glyph\":{\"id\":\"1308\"},\"nonselection_glyph\":{\"id\":\"1307\"},\"selection_glyph\":{\"id\":\"1311\"},\"view\":{\"id\":\"1310\"}},\"id\":\"1309\",\"type\":\"GlyphRenderer\"},{\"attributes\":{\"line_alpha\":{\"value\":0.1},\"x0\":{\"field\":\"x0\"},\"x1\":{\"field\":\"x1\"},\"y0\":{\"field\":\"y0\"},\"y1\":{\"field\":\"y1\"}},\"id\":\"1315\",\"type\":\"Segment\"},{\"attributes\":{\"bottom\":{\"field\":\"bottom\"},\"fill_alpha\":{\"value\":1.0},\"fill_color\":{\"value\":\"#30a2da\"},\"hatch_alpha\":{\"value\":1.0},\"hatch_color\":{\"value\":\"black\"},\"hatch_scale\":{\"value\":12.0},\"hatch_weight\":{\"value\":1.0},\"line_alpha\":{\"value\":1.0},\"line_cap\":{\"value\":\"butt\"},\"line_color\":{\"value\":\"black\"},\"line_dash\":{\"value\":[]},\"line_dash_offset\":{\"value\":0},\"line_join\":{\"value\":\"bevel\"},\"line_width\":{\"value\":1},\"top\":{\"field\":\"top\"},\"width\":{\"value\":0.7},\"x\":{\"field\":\"index\"}},\"id\":\"1357\",\"type\":\"VBar\"},{\"attributes\":{\"coordinates\":null,\"group\":null,\"items\":[]},\"id\":\"1355\",\"type\":\"Legend\"},{\"attributes\":{\"data\":{\"Variable\":[\"C\"],\"index\":[\"C\"],\"value\":{\"__ndarray__\":\"bx95vT0uEEA=\",\"dtype\":\"float64\",\"order\":\"little\",\"shape\":[1]}},\"selected\":{\"id\":\"1343\"},\"selection_policy\":{\"id\":\"1342\"}},\"id\":\"1288\",\"type\":\"ColumnDataSource\"},{\"attributes\":{\"line_alpha\":{\"value\":1.0},\"line_cap\":{\"value\":\"butt\"},\"line_color\":{\"value\":\"black\"},\"line_dash\":{\"value\":[]},\"line_dash_offset\":{\"value\":0},\"line_join\":{\"value\":\"bevel\"},\"line_width\":{\"value\":1},\"x0\":{\"field\":\"x0\"},\"x1\":{\"field\":\"x1\"},\"y0\":{\"field\":\"y0\"},\"y1\":{\"field\":\"y1\"}},\"id\":\"1327\",\"type\":\"Segment\"},{\"attributes\":{\"bottom\":{\"field\":\"bottom\"},\"fill_color\":{\"value\":\"#30a2da\"},\"top\":{\"field\":\"top\"},\"width\":{\"value\":0.7},\"x\":{\"field\":\"index\"}},\"id\":\"1360\",\"type\":\"VBar\"},{\"attributes\":{\"source\":{\"id\":\"1320\"}},\"id\":\"1326\",\"type\":\"CDSView\"},{\"attributes\":{},\"id\":\"1346\",\"type\":\"UnionRenderers\"},{\"attributes\":{\"tools\":[{\"id\":\"1258\"},{\"id\":\"1275\"},{\"id\":\"1276\"},{\"id\":\"1277\"},{\"id\":\"1278\"},{\"id\":\"1279\"}]},\"id\":\"1281\",\"type\":\"Toolbar\"},{\"attributes\":{},\"id\":\"1347\",\"type\":\"Selection\"},{\"attributes\":{\"fill_alpha\":{\"value\":0.2},\"fill_color\":{\"value\":\"black\"},\"hatch_alpha\":{\"value\":0.2},\"line_alpha\":{\"value\":0.2},\"x\":{\"field\":\"index\"},\"y\":{\"field\":\"value\"}},\"id\":\"1292\",\"type\":\"Circle\"},{\"attributes\":{\"line_alpha\":{\"value\":1.0},\"line_cap\":{\"value\":\"butt\"},\"line_color\":{\"value\":\"black\"},\"line_dash\":{\"value\":[]},\"line_dash_offset\":{\"value\":0},\"line_join\":{\"value\":\"bevel\"},\"line_width\":{\"value\":1},\"x0\":{\"field\":\"x0\"},\"x1\":{\"field\":\"x1\"},\"y0\":{\"field\":\"y0\"},\"y1\":{\"field\":\"y1\"}},\"id\":\"1319\",\"type\":\"Segment\"},{\"attributes\":{\"source\":{\"id\":\"1296\"}},\"id\":\"1302\",\"type\":\"CDSView\"},{\"attributes\":{\"coordinates\":null,\"data_source\":{\"id\":\"1312\"},\"glyph\":{\"id\":\"1314\"},\"group\":null,\"hover_glyph\":null,\"muted_glyph\":{\"id\":\"1316\"},\"nonselection_glyph\":{\"id\":\"1315\"},\"selection_glyph\":{\"id\":\"1319\"},\"view\":{\"id\":\"1318\"}},\"id\":\"1317\",\"type\":\"GlyphRenderer\"},{\"attributes\":{\"data\":{\"x0\":[[\"A\",-0.2],[\"B\",-0.2],[\"C\",-0.2],[\"D\",-0.2]],\"x1\":[[\"A\",0.2],[\"B\",0.2],[\"C\",0.2],[\"D\",0.2]],\"y0\":[-1.854628078806505,-1.8359947910720698,-0.4554132948246823,-0.544443398859183],\"y1\":[-1.854628078806505,-1.8359947910720698,-0.4554132948246823,-0.544443398859183]},\"selected\":{\"id\":\"1349\"},\"selection_policy\":{\"id\":\"1348\"}},\"id\":\"1312\",\"type\":\"ColumnDataSource\"},{\"attributes\":{\"coordinates\":null,\"data_source\":{\"id\":\"1320\"},\"glyph\":{\"id\":\"1322\"},\"group\":null,\"hover_glyph\":null,\"muted_glyph\":{\"id\":\"1324\"},\"nonselection_glyph\":{\"id\":\"1323\"},\"selection_glyph\":{\"id\":\"1327\"},\"view\":{\"id\":\"1326\"}},\"id\":\"1325\",\"type\":\"GlyphRenderer\"},{\"attributes\":{\"line_alpha\":{\"value\":0.2},\"x0\":{\"field\":\"x0\"},\"x1\":{\"field\":\"x1\"},\"y0\":{\"field\":\"y0\"},\"y1\":{\"field\":\"y1\"}},\"id\":\"1324\",\"type\":\"Segment\"},{\"attributes\":{\"line_alpha\":{\"value\":0.1},\"x0\":{\"field\":\"x0\"},\"x1\":{\"field\":\"x1\"},\"y0\":{\"field\":\"y0\"},\"y1\":{\"field\":\"y1\"}},\"id\":\"1299\",\"type\":\"Segment\"},{\"attributes\":{\"fill_alpha\":{\"value\":0.1},\"fill_color\":{\"value\":\"black\"},\"hatch_alpha\":{\"value\":0.1},\"line_alpha\":{\"value\":0.1},\"x\":{\"field\":\"index\"},\"y\":{\"field\":\"value\"}},\"id\":\"1291\",\"type\":\"Circle\"},{\"attributes\":{\"coordinates\":null,\"data_source\":{\"id\":\"1328\"},\"glyph\":{\"id\":\"1330\"},\"group\":null,\"hover_glyph\":null,\"muted_glyph\":{\"id\":\"1332\"},\"nonselection_glyph\":{\"id\":\"1331\"},\"selection_glyph\":{\"id\":\"1357\"},\"view\":{\"id\":\"1334\"}},\"id\":\"1333\",\"type\":\"GlyphRenderer\"},{\"attributes\":{},\"id\":\"1348\",\"type\":\"UnionRenderers\"},{\"attributes\":{\"line_alpha\":{\"value\":1.0},\"line_cap\":{\"value\":\"butt\"},\"line_color\":{\"value\":\"black\"},\"line_dash\":{\"value\":[]},\"line_dash_offset\":{\"value\":0},\"line_join\":{\"value\":\"bevel\"},\"line_width\":{\"value\":1},\"x0\":{\"field\":\"x0\"},\"x1\":{\"field\":\"x1\"},\"y0\":{\"field\":\"y0\"},\"y1\":{\"field\":\"y1\"}},\"id\":\"1303\",\"type\":\"Segment\"},{\"attributes\":{},\"id\":\"1338\",\"type\":\"AllLabels\"},{\"attributes\":{},\"id\":\"1349\",\"type\":\"Selection\"},{\"attributes\":{\"line_alpha\":{\"value\":0.2},\"x0\":{\"field\":\"x0\"},\"x1\":{\"field\":\"x1\"},\"y0\":{\"field\":\"y0\"},\"y1\":{\"field\":\"y1\"}},\"id\":\"1300\",\"type\":\"Segment\"},{\"attributes\":{\"source\":{\"id\":\"1358\"}},\"id\":\"1364\",\"type\":\"CDSView\"},{\"attributes\":{},\"id\":\"1337\",\"type\":\"BasicTickFormatter\"},{\"attributes\":{\"bottom\":{\"field\":\"bottom\"},\"fill_alpha\":{\"value\":1.0},\"fill_color\":{\"value\":\"#30a2da\"},\"hatch_alpha\":{\"value\":1.0},\"hatch_color\":{\"value\":\"black\"},\"hatch_scale\":{\"value\":12.0},\"hatch_weight\":{\"value\":1.0},\"line_alpha\":{\"value\":1.0},\"line_cap\":{\"value\":\"butt\"},\"line_color\":{\"value\":\"black\"},\"line_dash\":{\"value\":[]},\"line_dash_offset\":{\"value\":0},\"line_join\":{\"value\":\"bevel\"},\"line_width\":{\"value\":1},\"top\":{\"field\":\"top\"},\"width\":{\"value\":0.7},\"x\":{\"field\":\"index\"}},\"id\":\"1365\",\"type\":\"VBar\"},{\"attributes\":{\"bottom\":{\"field\":\"bottom\"},\"fill_alpha\":{\"value\":0.2},\"fill_color\":{\"value\":\"#30a2da\"},\"hatch_alpha\":{\"value\":0.2},\"line_alpha\":{\"value\":0.2},\"top\":{\"field\":\"top\"},\"width\":{\"value\":0.7},\"x\":{\"field\":\"index\"}},\"id\":\"1332\",\"type\":\"VBar\"},{\"attributes\":{},\"id\":\"1342\",\"type\":\"UnionRenderers\"},{\"attributes\":{\"source\":{\"id\":\"1288\"}},\"id\":\"1294\",\"type\":\"CDSView\"},{\"attributes\":{\"bottom\":{\"field\":\"bottom\"},\"fill_color\":{\"value\":\"#30a2da\"},\"top\":{\"field\":\"top\"},\"width\":{\"value\":0.7},\"x\":{\"field\":\"index\"}},\"id\":\"1330\",\"type\":\"VBar\"},{\"attributes\":{\"x0\":{\"field\":\"x0\"},\"x1\":{\"field\":\"x1\"},\"y0\":{\"field\":\"y0\"},\"y1\":{\"field\":\"y1\"}},\"id\":\"1322\",\"type\":\"Segment\"},{\"attributes\":{\"source\":{\"id\":\"1312\"}},\"id\":\"1318\",\"type\":\"CDSView\"},{\"attributes\":{\"x0\":{\"field\":\"x0\"},\"x1\":{\"field\":\"x1\"},\"y0\":{\"field\":\"y0\"},\"y1\":{\"field\":\"y1\"}},\"id\":\"1306\",\"type\":\"Segment\"},{\"attributes\":{},\"id\":\"1350\",\"type\":\"UnionRenderers\"},{\"attributes\":{\"source\":{\"id\":\"1304\"}},\"id\":\"1310\",\"type\":\"CDSView\"},{\"attributes\":{\"children\":[{\"id\":\"1255\"},{\"id\":\"1259\"},{\"id\":\"1394\"}],\"margin\":[0,0,0,0],\"name\":\"Row01066\",\"tags\":[\"embedded\"]},\"id\":\"1254\",\"type\":\"Row\"},{\"attributes\":{\"coordinates\":null,\"data_source\":{\"id\":\"1296\"},\"glyph\":{\"id\":\"1298\"},\"group\":null,\"hover_glyph\":null,\"muted_glyph\":{\"id\":\"1300\"},\"nonselection_glyph\":{\"id\":\"1299\"},\"selection_glyph\":{\"id\":\"1303\"},\"view\":{\"id\":\"1302\"}},\"id\":\"1301\",\"type\":\"GlyphRenderer\"},{\"attributes\":{\"data\":{\"x0\":[\"A\",\"B\",\"C\",\"D\"],\"x1\":[\"A\",\"B\",\"C\",\"D\"],\"y0\":{\"__ndarray__\":\"eQQc/bteAUB0X0w4R7PzPzusFZqdKv4/Rob30gKM6z8=\",\"dtype\":\"float64\",\"order\":\"little\",\"shape\":[4]},\"y1\":{\"__ndarray__\":\"cvLKQQwH8T8Kda93+bvmPzuN4ADlqvU/aIKswrWl1D8=\",\"dtype\":\"float64\",\"order\":\"little\",\"shape\":[4]}},\"selected\":{\"id\":\"1345\"},\"selection_policy\":{\"id\":\"1344\"}},\"id\":\"1296\",\"type\":\"ColumnDataSource\"},{\"attributes\":{\"line_alpha\":{\"value\":0.2},\"x0\":{\"field\":\"x0\"},\"x1\":{\"field\":\"x1\"},\"y0\":{\"field\":\"y0\"},\"y1\":{\"field\":\"y1\"}},\"id\":\"1308\",\"type\":\"Segment\"},{\"attributes\":{},\"id\":\"1351\",\"type\":\"Selection\"},{\"attributes\":{\"data\":{\"x0\":[[\"A\",-0.2],[\"B\",-0.2],[\"C\",-0.2],[\"D\",-0.2]],\"x1\":[[\"A\",0.2],[\"B\",0.2],[\"C\",0.2],[\"D\",0.2]],\"y0\":[2.1712569975066427,1.231269092479093,1.8854042071277621,0.8608411903807756],\"y1\":[2.1712569975066427,1.231269092479093,1.8854042071277621,0.8608411903807756]},\"selected\":{\"id\":\"1351\"},\"selection_policy\":{\"id\":\"1350\"}},\"id\":\"1320\",\"type\":\"ColumnDataSource\"},{\"attributes\":{\"fill_color\":{\"value\":\"black\"},\"x\":{\"field\":\"index\"},\"y\":{\"field\":\"value\"}},\"id\":\"1290\",\"type\":\"Circle\"},{\"attributes\":{},\"id\":\"1340\",\"type\":\"CategoricalTickFormatter\"},{\"attributes\":{\"factors\":[\"A\",\"B\",\"C\",\"D\"],\"tags\":[[[\"Variable\",\"Variable\",null]]]},\"id\":\"1256\",\"type\":\"FactorRange\"},{\"attributes\":{},\"id\":\"1391\",\"type\":\"UnionRenderers\"},{\"attributes\":{\"bottom\":{\"field\":\"bottom\"},\"fill_alpha\":{\"value\":0.1},\"fill_color\":{\"value\":\"#30a2da\"},\"hatch_alpha\":{\"value\":0.1},\"line_alpha\":{\"value\":0.1},\"top\":{\"field\":\"top\"},\"width\":{\"value\":0.7},\"x\":{\"field\":\"index\"}},\"id\":\"1331\",\"type\":\"VBar\"},{\"attributes\":{},\"id\":\"1266\",\"type\":\"LinearScale\"},{\"attributes\":{\"callback\":null,\"renderers\":[{\"id\":\"1293\"},{\"id\":\"1333\"},{\"id\":\"1363\"}],\"tags\":[\"hv_created\"],\"tooltips\":[[\"Variable\",\"@{Variable}\"],[\"value\",\"@{value}\"]]},\"id\":\"1258\",\"type\":\"HoverTool\"},{\"attributes\":{},\"id\":\"1341\",\"type\":\"AllLabels\"},{\"attributes\":{\"margin\":[5,5,5,5],\"name\":\"HSpacer01070\",\"sizing_mode\":\"stretch_width\"},\"id\":\"1255\",\"type\":\"Spacer\"},{\"attributes\":{\"line_alpha\":{\"value\":0.1},\"x0\":{\"field\":\"x0\"},\"x1\":{\"field\":\"x1\"},\"y0\":{\"field\":\"y0\"},\"y1\":{\"field\":\"y1\"}},\"id\":\"1307\",\"type\":\"Segment\"},{\"attributes\":{\"end\":4.635135942273887,\"reset_end\":4.635135942273887,\"reset_start\":-2.4446066261774497,\"start\":-2.4446066261774497,\"tags\":[[[\"value\",\"value\",null]]]},\"id\":\"1257\",\"type\":\"Range1d\"},{\"attributes\":{\"data\":{\"Variable\":[\"A\",\"B\",\"C\",\"D\"],\"bottom\":{\"__ndarray__\":\"cvLKQQwH8T8Kda93+bvmPzuN4ADlqvU/aIKswrWl1D8=\",\"dtype\":\"float64\",\"order\":\"little\",\"shape\":[4]},\"index\":[\"A\",\"B\",\"C\",\"D\"],\"top\":{\"__ndarray__\":\"cC4oAp7ukj/YDF1hyh7WP/ID6kGUA+o/6jz8TPjbrz8=\",\"dtype\":\"float64\",\"order\":\"little\",\"shape\":[4]},\"value\":{\"__ndarray__\":\"cC4oAp7ukj/YDF1hyh7WP/ID6kGUA+o/6jz8TPjbrz8=\",\"dtype\":\"float64\",\"order\":\"little\",\"shape\":[4]}},\"selected\":{\"id\":\"1353\"},\"selection_policy\":{\"id\":\"1352\"}},\"id\":\"1328\",\"type\":\"ColumnDataSource\"},{\"attributes\":{\"bottom\":{\"field\":\"bottom\"},\"fill_alpha\":{\"value\":0.1},\"fill_color\":{\"value\":\"#30a2da\"},\"hatch_alpha\":{\"value\":0.1},\"line_alpha\":{\"value\":0.1},\"top\":{\"field\":\"top\"},\"width\":{\"value\":0.7},\"x\":{\"field\":\"index\"}},\"id\":\"1361\",\"type\":\"VBar\"},{\"attributes\":{\"margin\":[5,5,5,5],\"name\":\"HSpacer01071\",\"sizing_mode\":\"stretch_width\"},\"id\":\"1394\",\"type\":\"Spacer\"},{\"attributes\":{\"axis_label\":\"Variable\",\"coordinates\":null,\"formatter\":{\"id\":\"1340\"},\"group\":null,\"major_label_policy\":{\"id\":\"1341\"},\"ticker\":{\"id\":\"1269\"}},\"id\":\"1268\",\"type\":\"CategoricalAxis\"},{\"attributes\":{},\"id\":\"1352\",\"type\":\"UnionRenderers\"},{\"attributes\":{\"data\":{\"x0\":[\"A\",\"B\",\"C\",\"D\"],\"x1\":[\"A\",\"B\",\"C\",\"D\"],\"y0\":{\"__ndarray__\":\"23kLfo6s/b+JfvQSPGD9vyTh2819Jd2/3vETkBRs4b8=\",\"dtype\":\"float64\",\"order\":\"little\",\"shape\":[4]},\"y1\":{\"__ndarray__\":\"PYnu+riW3L9yAqyjHS3iv7AiyPDqFp2/WoIA1M3LsL8=\",\"dtype\":\"float64\",\"order\":\"little\",\"shape\":[4]}},\"selected\":{\"id\":\"1347\"},\"selection_policy\":{\"id\":\"1346\"}},\"id\":\"1304\",\"type\":\"ColumnDataSource\"},{\"attributes\":{\"line_alpha\":{\"value\":0.1},\"x0\":{\"field\":\"x0\"},\"x1\":{\"field\":\"x1\"},\"y0\":{\"field\":\"y0\"},\"y1\":{\"field\":\"y1\"}},\"id\":\"1323\",\"type\":\"Segment\"},{\"attributes\":{},\"id\":\"1264\",\"type\":\"CategoricalScale\"},{\"attributes\":{},\"id\":\"1353\",\"type\":\"Selection\"},{\"attributes\":{\"below\":[{\"id\":\"1268\"}],\"center\":[{\"id\":\"1270\"},{\"id\":\"1274\"},{\"id\":\"1355\"}],\"height\":300,\"left\":[{\"id\":\"1271\"}],\"margin\":[5,5,5,5],\"min_border_bottom\":10,\"min_border_left\":10,\"min_border_right\":10,\"min_border_top\":10,\"renderers\":[{\"id\":\"1293\"},{\"id\":\"1301\"},{\"id\":\"1309\"},{\"id\":\"1317\"},{\"id\":\"1325\"},{\"id\":\"1333\"},{\"id\":\"1363\"}],\"sizing_mode\":\"fixed\",\"title\":{\"id\":\"1260\"},\"toolbar\":{\"id\":\"1281\"},\"width\":700,\"x_range\":{\"id\":\"1256\"},\"x_scale\":{\"id\":\"1264\"},\"y_range\":{\"id\":\"1257\"},\"y_scale\":{\"id\":\"1266\"}},\"id\":\"1259\",\"subtype\":\"Figure\",\"type\":\"Plot\"},{\"attributes\":{\"x0\":{\"field\":\"x0\"},\"x1\":{\"field\":\"x1\"},\"y0\":{\"field\":\"y0\"},\"y1\":{\"field\":\"y1\"}},\"id\":\"1298\",\"type\":\"Segment\"},{\"attributes\":{\"x0\":{\"field\":\"x0\"},\"x1\":{\"field\":\"x1\"},\"y0\":{\"field\":\"y0\"},\"y1\":{\"field\":\"y1\"}},\"id\":\"1314\",\"type\":\"Segment\"},{\"attributes\":{},\"id\":\"1269\",\"type\":\"CategoricalTicker\"},{\"attributes\":{\"bottom\":{\"field\":\"bottom\"},\"fill_alpha\":{\"value\":0.2},\"fill_color\":{\"value\":\"#30a2da\"},\"hatch_alpha\":{\"value\":0.2},\"line_alpha\":{\"value\":0.2},\"top\":{\"field\":\"top\"},\"width\":{\"value\":0.7},\"x\":{\"field\":\"index\"}},\"id\":\"1362\",\"type\":\"VBar\"},{\"attributes\":{\"coordinates\":null,\"group\":null,\"text_color\":\"black\",\"text_font_size\":\"12pt\"},\"id\":\"1260\",\"type\":\"Title\"},{\"attributes\":{\"coordinates\":null,\"data_source\":{\"id\":\"1288\"},\"glyph\":{\"id\":\"1290\"},\"group\":null,\"hover_glyph\":null,\"muted_glyph\":{\"id\":\"1292\"},\"nonselection_glyph\":{\"id\":\"1291\"},\"selection_glyph\":{\"id\":\"1295\"},\"view\":{\"id\":\"1294\"}},\"id\":\"1293\",\"type\":\"GlyphRenderer\"},{\"attributes\":{\"axis\":{\"id\":\"1268\"},\"coordinates\":null,\"grid_line_color\":null,\"group\":null,\"ticker\":null},\"id\":\"1270\",\"type\":\"Grid\"}],\"root_ids\":[\"1254\"]},\"title\":\"Bokeh Application\",\"version\":\"2.4.3\"}};\n",
              "    var render_items = [{\"docid\":\"baffffed-6af1-4ada-9699-9559e5e1161f\",\"root_ids\":[\"1254\"],\"roots\":{\"1254\":\"83c1c89e-ac8f-4bb2-aaee-f1f15d0dbd1c\"}}];\n",
              "    root.Bokeh.embed.embed_items_notebook(docs_json, render_items);\n",
              "    for (const render_item of render_items) {\n",
              "      for (const root_id of render_item.root_ids) {\n",
              "\tconst id_el = document.getElementById(root_id)\n",
              "\tif (id_el.children.length && (id_el.children[0].className === 'bk-root')) {\n",
              "\t  const root_el = id_el.children[0]\n",
              "\t  root_el.id = root_el.id + '-rendered'\n",
              "\t}\n",
              "      }\n",
              "    }\n",
              "  }\n",
              "  if (root.Bokeh !== undefined && root.Bokeh.Panel !== undefined) {\n",
              "    embed_document(root);\n",
              "  } else {\n",
              "    var attempts = 0;\n",
              "    var timer = setInterval(function(root) {\n",
              "      if (root.Bokeh !== undefined && root.Bokeh.Panel !== undefined) {\n",
              "        clearInterval(timer);\n",
              "        embed_document(root);\n",
              "      } else if (document.readyState == \"complete\") {\n",
              "        attempts++;\n",
              "        if (attempts > 200) {\n",
              "          clearInterval(timer);\n",
              "          console.log(\"Bokeh: ERROR: Unable to run BokehJS code because BokehJS library is missing\");\n",
              "        }\n",
              "      }\n",
              "    }, 25, root)\n",
              "  }\n",
              "})(window);</script>"
            ],
            "text/plain": [
              ":BoxWhisker   [Variable]   (value)"
            ]
          },
          "execution_count": 25,
          "metadata": {
            "application/vnd.holoviews_exec.v0+json": {
              "id": "1254"
            }
          },
          "output_type": "execute_result"
        }
      ],
      "source": [
        "randomizer = np.random.RandomState(17)  # Makes sure the pseudorandom number generators reproduce the same data for us all.\n",
        "df = pd.DataFrame()\n",
        "df['A'] = randomizer.normal(0, 1, size=20)\n",
        "df['B'] = randomizer.normal(0.2, 1, size=20)\n",
        "df['C'] = randomizer.normal(0.7, 1, size=20)\n",
        "df['D'] = df.A * 0.3 + randomizer.normal(0, 0.3, size=20)\n",
        "\n",
        "pd.options.plotting.backend = 'hvplot'\n",
        "df.plot.box()"
      ]
    },
    {
      "cell_type": "markdown",
      "id": "8c5dffd6",
      "metadata": {
        "cell_id": "00008-9788637e-733d-47af-ade1-6b7d088bfd5c",
        "deepnote_cell_type": "markdown",
        "tags": []
      },
      "source": [
        "### Analyze the Data with T-Tests in Pingouin"
      ]
    },
    {
      "cell_type": "markdown",
      "id": "2818f8db",
      "metadata": {},
      "source": [
        "**A vs 0, One-Sampled T-Test (Example)**: Is the mean of the normally-distributed population that the the dataset A is generated from unlikely to be zero?"
      ]
    },
    {
      "cell_type": "code",
      "execution_count": 22,
      "id": "da2e7630",
      "metadata": {
        "tags": [
          "exercise"
        ]
      },
      "outputs": [],
      "source": []
    },
    {
      "cell_type": "markdown",
      "id": "1834ea70",
      "metadata": {},
      "source": [
        "**B vs 1, One-Sampled T-Test**: Is the mean of the normally-distributed population that the the dataset B is generated from unlikely to be one?"
      ]
    },
    {
      "cell_type": "code",
      "execution_count": 24,
      "id": "4eb87cc8",
      "metadata": {
        "tags": [
          "exercise"
        ]
      },
      "outputs": [],
      "source": []
    },
    {
      "cell_type": "markdown",
      "id": "67930529",
      "metadata": {},
      "source": [
        "**A vs B, Independent Samples T-Test**: Is the mean of the normally-distributed population that the the dataset `A` is generated from unlikely to be the same as the mean of the normally-distributed population that the the dataset `B` is generated from?"
      ]
    },
    {
      "cell_type": "code",
      "execution_count": 26,
      "id": "e998e123",
      "metadata": {
        "tags": [
          "exercise"
        ]
      },
      "outputs": [],
      "source": []
    },
    {
      "cell_type": "markdown",
      "id": "21e7c886",
      "metadata": {},
      "source": [
        "**A vs C, Independent Samples T-Test**: Is the mean of the normally-distributed population that the the dataset `A` is generated from unlikely to be the same as the mean of the normally-distributed population that the the dataset `C` is generated from?"
      ]
    },
    {
      "cell_type": "code",
      "execution_count": 27,
      "id": "b033e99f",
      "metadata": {
        "cell_id": "00013-7bf57931-725d-490f-86dd-bad0d3481205",
        "deepnote_cell_type": "code",
        "tags": [
          "exercise"
        ]
      },
      "outputs": [],
      "source": []
    },
    {
      "cell_type": "markdown",
      "id": "c7f48a4c",
      "metadata": {
        "cell_id": "00014-1acad45d-9edc-4327-9d4a-a75100f221a6",
        "deepnote_cell_type": "markdown",
        "tags": []
      },
      "source": [
        "**A vs C, Paired Samples T-Test**: Is the mean of the differences between each pair of samples in generated from the two normally-distributed populations `A` and `C`  unlikely to be 0?"
      ]
    },
    {
      "cell_type": "code",
      "execution_count": 28,
      "id": "62a86b72",
      "metadata": {
        "tags": [
          "exercise"
        ]
      },
      "outputs": [],
      "source": []
    },
    {
      "cell_type": "markdown",
      "id": "f4d2e3ee",
      "metadata": {
        "cell_id": "00017-72ede8ff-a028-4ad9-af67-d9ee5dd2ec58",
        "deepnote_cell_type": "markdown",
        "tags": []
      },
      "source": [
        "**A vs D, Paired Samples T-Test**: Is the mean of the differences between each pair of samples in generated from the two normally-distributed populations `A` and `D`  unlikely to be 0?"
      ]
    },
    {
      "cell_type": "code",
      "execution_count": 14,
      "id": "d4cc4373",
      "metadata": {
        "tags": [
          "exercise"
        ]
      },
      "outputs": [],
      "source": []
    },
    {
      "cell_type": "markdown",
      "id": "e7ec7428-b083-4b2d-b8b9-304c72cca984",
      "metadata": {},
      "source": [
        "## Working with Long DataFrames"
      ]
    },
    {
      "cell_type": "markdown",
      "id": "3c5c7fd1",
      "metadata": {},
      "source": [
        "If data is oranized as a long dataframe, it is also possible to have `pingouin` simply do all the comparisons between the groups. \n",
        "\n",
        "| Test, | Function | \n",
        "| :--- | :--- |\n",
        "| Melt | `pd.melt()` |\n",
        "| ANOVA | `pg.anova(data=dfl, dv='value', between=['variable'], detailed=True, )` |\n",
        "| ANCOVA | `pg.ancova(dfl, dv='value', between=['variable'], covar=['index'], )` |\n",
        "| Pairwise T-tests | `pg.pairwise_tests(data=dfl, dv='value', between='variable', subject='index', padjust='fdr')`  |  "
      ]
    },
    {
      "cell_type": "markdown",
      "id": "8e111182-c253-4eab-90c4-ffb6707f4853",
      "metadata": {},
      "source": [
        "**Exercises**"
      ]
    },
    {
      "cell_type": "markdown",
      "id": "11b50384-3eb8-41a0-96b0-94ec0d8ccf66",
      "metadata": {},
      "source": [
        "Melt the `data` dataframe using the `ignore_index=False` option and reset the index to create a long dataframe with two columns: \"variable\", and \"value\"."
      ]
    },
    {
      "cell_type": "code",
      "execution_count": 116,
      "id": "e5d4df20",
      "metadata": {
        "tags": [
          "exercise"
        ]
      },
      "outputs": [],
      "source": []
    },
    {
      "cell_type": "markdown",
      "id": "374fed27-98aa-4460-aacc-cf02870e5116",
      "metadata": {},
      "source": [
        "Before doing pairwise tests, it's often helpful to run an ANOVA analysis, which can tell you quickly whether a pairwise difference exists.  Below, run an ANOVA test comparing the dv 'value' between values of 'variable' to see if a significant difference is expected."
      ]
    },
    {
      "cell_type": "code",
      "execution_count": 79,
      "id": "fb58b047-6925-42c4-88bf-4ada5f0ecc65",
      "metadata": {
        "tags": [
          "exercise"
        ]
      },
      "outputs": [],
      "source": []
    },
    {
      "cell_type": "markdown",
      "id": "3acbacf4",
      "metadata": {},
      "source": [
        "Do a pairwise test on the long dataframe, comparing the value of 'value' between each value 'variable'. "
      ]
    },
    {
      "cell_type": "code",
      "execution_count": 52,
      "id": "5cea7477",
      "metadata": {
        "tags": [
          "exercise"
        ]
      },
      "outputs": [],
      "source": []
    },
    {
      "cell_type": "markdown",
      "id": "ea566c5d-0f2a-4829-8b78-cbd687f5fccd",
      "metadata": {},
      "source": [
        "Do a pairwise test again on the long dataframe, comparing the value of 'value' between each value 'variable'.  This time, adjust the p-value to compensate for multiple comparisons using the 'fdr' method.  Are the significant differences still significant?  How do the corrected p-values compare to the results of the ANOVA test before?"
      ]
    },
    {
      "cell_type": "code",
      "execution_count": 54,
      "id": "c5033a36-b7b7-4f3a-90fa-9fadbdbe558d",
      "metadata": {
        "tags": [
          "exercise"
        ]
      },
      "outputs": [],
      "source": []
    },
    {
      "cell_type": "markdown",
      "id": "d27a3b1f-3eeb-4cf1-a1d2-fbd4a77683f1",
      "metadata": {},
      "source": [
        "Do a pairwise test again on the long dataframe, comparing the value of 'value' between each value 'variable'.  This time, use a non-parametric comparison (not assuming a normal distribution of each variable), and still adjust for multiple comparisons.  Are your results the same?"
      ]
    },
    {
      "cell_type": "code",
      "execution_count": 55,
      "id": "325873ad-f030-4e90-81b3-0c60f16c1ec1",
      "metadata": {
        "tags": [
          "exercise"
        ]
      },
      "outputs": [],
      "source": []
    },
    {
      "cell_type": "markdown",
      "id": "0a7a601c",
      "metadata": {
        "cell_id": "00028-47e23c09-42f1-4eaa-b027-43c8707fc77b",
        "deepnote_cell_type": "markdown",
        "id": "documentary-effects"
      },
      "source": [
        "## Further Reading\n",
        "\n",
        "Nice article on Pingouin here: https://towardsdatascience.com/the-new-kid-on-the-statistics-in-python-block-pingouin-6b353a1db57c\n",
        "\n",
        "Nice summary of the different effect size metrics and when to pick which: https://www.socscistatistics.com/effectsize/default3.aspx"
      ]
    },
    {
      "cell_type": "markdown",
      "id": "be6ef0ca-998f-441e-97cd-3d0e96011a33",
      "metadata": {},
      "source": [
        "## Extra: Correlations and Simpson's Paradox\n",
        "\n",
        "| Function | Description |\n",
        "| :-- | :-- |\n",
        "| `pg.corr(A, B)` | The correlation between variables A and B |\n",
        "| `pg.pairwise_corr(flowers)` | Pairwise correlations |\n",
        "| `df.plot.scatter(x='A', y='B')` | Make a scatter plot |\n",
        "| `sns.lmplot(data=df, x='Col1', y='Col2', hue='Col3')` | Make a scatter plot with a regression line |"
      ]
    },
    {
      "cell_type": "markdown",
      "id": "460f3510-69cc-4964-a329-c3d40fb5e3d9",
      "metadata": {},
      "source": [
        "Download the iris dataset for this section:"
      ]
    },
    {
      "cell_type": "code",
      "execution_count": 110,
      "id": "c19d0c1c-20c1-4e8e-8100-1ea23b7134da",
      "metadata": {},
      "outputs": [],
      "source": [
        "from bokeh import sampledata\n",
        "# sampledata.download()"
      ]
    },
    {
      "cell_type": "code",
      "execution_count": 111,
      "id": "a493e650-a257-4ce9-866d-e23b596d4cf4",
      "metadata": {},
      "outputs": [
        {
          "data": {
            "text/html": [
              "<div>\n",
              "<style scoped>\n",
              "    .dataframe tbody tr th:only-of-type {\n",
              "        vertical-align: middle;\n",
              "    }\n",
              "\n",
              "    .dataframe tbody tr th {\n",
              "        vertical-align: top;\n",
              "    }\n",
              "\n",
              "    .dataframe thead th {\n",
              "        text-align: right;\n",
              "    }\n",
              "</style>\n",
              "<table border=\"1\" class=\"dataframe\">\n",
              "  <thead>\n",
              "    <tr style=\"text-align: right;\">\n",
              "      <th></th>\n",
              "      <th>sepal_length</th>\n",
              "      <th>sepal_width</th>\n",
              "      <th>petal_length</th>\n",
              "      <th>petal_width</th>\n",
              "      <th>species</th>\n",
              "    </tr>\n",
              "  </thead>\n",
              "  <tbody>\n",
              "    <tr>\n",
              "      <th>0</th>\n",
              "      <td>5.1</td>\n",
              "      <td>3.5</td>\n",
              "      <td>1.4</td>\n",
              "      <td>0.2</td>\n",
              "      <td>setosa</td>\n",
              "    </tr>\n",
              "    <tr>\n",
              "      <th>1</th>\n",
              "      <td>4.9</td>\n",
              "      <td>3.0</td>\n",
              "      <td>1.4</td>\n",
              "      <td>0.2</td>\n",
              "      <td>setosa</td>\n",
              "    </tr>\n",
              "    <tr>\n",
              "      <th>2</th>\n",
              "      <td>4.7</td>\n",
              "      <td>3.2</td>\n",
              "      <td>1.3</td>\n",
              "      <td>0.2</td>\n",
              "      <td>setosa</td>\n",
              "    </tr>\n",
              "    <tr>\n",
              "      <th>3</th>\n",
              "      <td>4.6</td>\n",
              "      <td>3.1</td>\n",
              "      <td>1.5</td>\n",
              "      <td>0.2</td>\n",
              "      <td>setosa</td>\n",
              "    </tr>\n",
              "    <tr>\n",
              "      <th>4</th>\n",
              "      <td>5.0</td>\n",
              "      <td>3.6</td>\n",
              "      <td>1.4</td>\n",
              "      <td>0.2</td>\n",
              "      <td>setosa</td>\n",
              "    </tr>\n",
              "  </tbody>\n",
              "</table>\n",
              "</div>"
            ],
            "text/plain": [
              "   sepal_length  sepal_width  petal_length  petal_width species\n",
              "0           5.1          3.5           1.4          0.2  setosa\n",
              "1           4.9          3.0           1.4          0.2  setosa\n",
              "2           4.7          3.2           1.3          0.2  setosa\n",
              "3           4.6          3.1           1.5          0.2  setosa\n",
              "4           5.0          3.6           1.4          0.2  setosa"
            ]
          },
          "execution_count": 111,
          "metadata": {},
          "output_type": "execute_result"
        }
      ],
      "source": [
        "from bokeh.sampledata import iris\n",
        "flowers = iris.flowers\n",
        "flowers.head()"
      ]
    },
    {
      "cell_type": "markdown",
      "id": "1c6d95fb-45f8-426b-a560-bbe9dd44a34d",
      "metadata": {},
      "source": [
        "**Exercises**:"
      ]
    },
    {
      "cell_type": "markdown",
      "id": "0c929132-e638-4ff1-91a0-91dfd292bae9",
      "metadata": {},
      "source": [
        "Is there a correlation between flowers' sepal widths and their petal lengths?"
      ]
    },
    {
      "cell_type": "code",
      "execution_count": 112,
      "id": "6969952b-80e1-414c-aae2-ba4e22163137",
      "metadata": {
        "tags": [
          "exercise"
        ]
      },
      "outputs": [],
      "source": []
    },
    {
      "cell_type": "markdown",
      "id": "574a1915-6e82-4327-9a99-f4d88e52727a",
      "metadata": {},
      "source": [
        "Use seaborn's `lmplot()` function to plot a regression line showing the sepal widths and petal lengths.  Does the direction of this line match the results?  Looking closely at the data's distribution, what is missing from this story?"
      ]
    },
    {
      "cell_type": "code",
      "execution_count": 129,
      "id": "50c1d511-6651-4ac2-ba4d-d9a21f5ee2c6",
      "metadata": {
        "tags": [
          "exercise"
        ]
      },
      "outputs": [],
      "source": []
    },
    {
      "cell_type": "markdown",
      "id": "13f21fd7-797b-4c87-be8e-dd6ba45934d3",
      "metadata": {},
      "source": [
        "This time factor in the `species` variable into the `lmplot()` visualization.  What kind of relationship do you see between `sepal_width` and `petal_length` now?"
      ]
    },
    {
      "cell_type": "code",
      "execution_count": 130,
      "id": "363fa626-be6b-4cd9-80a8-a1136f0238fd",
      "metadata": {
        "tags": [
          "exercise"
        ]
      },
      "outputs": [],
      "source": []
    },
    {
      "cell_type": "markdown",
      "id": "e6a59f3f-304c-4da9-bcb6-b35ad3427955",
      "metadata": {},
      "source": [
        "What's happening here is that a third variable, `\"species\"`, is influencing both the petal and the sepal shape; this effect is called \"Simpson's Paradox\".   Unfortunately, at this time (as far as I know) pengouin doesn't have a way to split a correlation into multiple groups; one way to do this, though, is to use a `df.groupby()` analysis, concatenating the results together:"
      ]
    },
    {
      "cell_type": "code",
      "execution_count": 128,
      "id": "6c7e05f1-6064-4c3d-a371-f697ce9fdecb",
      "metadata": {},
      "outputs": [
        {
          "data": {
            "text/html": [
              "<div>\n",
              "<style scoped>\n",
              "    .dataframe tbody tr th:only-of-type {\n",
              "        vertical-align: middle;\n",
              "    }\n",
              "\n",
              "    .dataframe tbody tr th {\n",
              "        vertical-align: top;\n",
              "    }\n",
              "\n",
              "    .dataframe thead th {\n",
              "        text-align: right;\n",
              "    }\n",
              "</style>\n",
              "<table border=\"1\" class=\"dataframe\">\n",
              "  <thead>\n",
              "    <tr style=\"text-align: right;\">\n",
              "      <th></th>\n",
              "      <th>n</th>\n",
              "      <th>r</th>\n",
              "      <th>CI95%</th>\n",
              "      <th>p-val</th>\n",
              "      <th>BF10</th>\n",
              "      <th>power</th>\n",
              "      <th>name</th>\n",
              "    </tr>\n",
              "  </thead>\n",
              "  <tbody>\n",
              "    <tr>\n",
              "      <th>pearson</th>\n",
              "      <td>50</td>\n",
              "      <td>0.177700</td>\n",
              "      <td>[-0.11, 0.43]</td>\n",
              "      <td>0.216979</td>\n",
              "      <td>0.37</td>\n",
              "      <td>0.236771</td>\n",
              "      <td>setosa</td>\n",
              "    </tr>\n",
              "    <tr>\n",
              "      <th>pearson</th>\n",
              "      <td>50</td>\n",
              "      <td>0.560522</td>\n",
              "      <td>[0.33, 0.73]</td>\n",
              "      <td>0.000023</td>\n",
              "      <td>1061.04</td>\n",
              "      <td>0.992245</td>\n",
              "      <td>versicolor</td>\n",
              "    </tr>\n",
              "    <tr>\n",
              "      <th>pearson</th>\n",
              "      <td>50</td>\n",
              "      <td>0.401045</td>\n",
              "      <td>[0.14, 0.61]</td>\n",
              "      <td>0.003898</td>\n",
              "      <td>10.094</td>\n",
              "      <td>0.836041</td>\n",
              "      <td>virginica</td>\n",
              "    </tr>\n",
              "  </tbody>\n",
              "</table>\n",
              "</div>"
            ],
            "text/plain": [
              "          n         r          CI95%     p-val     BF10     power        name\n",
              "pearson  50  0.177700  [-0.11, 0.43]  0.216979     0.37  0.236771      setosa\n",
              "pearson  50  0.560522   [0.33, 0.73]  0.000023  1061.04  0.992245  versicolor\n",
              "pearson  50  0.401045   [0.14, 0.61]  0.003898   10.094  0.836041   virginica"
            ]
          },
          "execution_count": 128,
          "metadata": {},
          "output_type": "execute_result"
        }
      ],
      "source": [
        "analyses = []\n",
        "for name, group in flowers.groupby('species'):\n",
        "    analysis = pg.corr(group['sepal_width'], group['petal_length'])\n",
        "    analysis['name'] = name\n",
        "    analyses.append(analysis)\n",
        "results = pd.concat(analyses)\n",
        "results"
      ]
    },
    {
      "cell_type": "markdown",
      "id": "f16ef249-6c23-4209-96e4-b7ae233e5e31",
      "metadata": {},
      "source": [
        "To summarize, accounting for the right variables is a big part of science; we should always be aware that the patterns we see in our data can be turned completely upside down when new aspects of a problem are understood and factored in!  "
      ]
    }
  ],
  "metadata": {
    "colab": {
      "name": "20_Stats_With_Pingouin.ipynb",
      "provenance": []
    },
    "deepnote": {},
    "deepnote_execution_queue": [],
    "deepnote_notebook_id": "2622f8ad-4a8a-45f5-9f7f-6e1d67bd04f0",
    "kernelspec": {
      "display_name": "Python 3",
      "language": "python",
      "name": "python3"
    },
    "language_info": {
      "codemirror_mode": {
        "name": "ipython",
        "version": 3
      },
      "file_extension": ".py",
      "mimetype": "text/x-python",
      "name": "python",
      "nbconvert_exporter": "python",
      "pygments_lexer": "ipython3",
      "version": "3.9.12"
    },
    "vscode": {
      "interpreter": {
        "hash": "d6852d01271bf8033dbdb7ec364b6f6e89fd52a18c6bf5b4c73e48c86329a8dd"
      }
    }
  },
  "nbformat": 4,
  "nbformat_minor": 5
}