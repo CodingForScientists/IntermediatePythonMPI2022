{
  "cells": [
    {
      "cell_type": "code",
      "execution_count": null,
      "id": "e16e2997-3e77-41f1-a0ef-8a12f7125aa0",
      "metadata": {},
      "outputs": [],
      "source": [
        "%pip install pandas sqlalchemy"
      ]
    },
    {
      "cell_type": "code",
      "execution_count": 6,
      "id": "f7af47fe-b4af-4fb4-a7d0-0cbc1834314c",
      "metadata": {},
      "outputs": [],
      "source": [
        "import pandas as pd"
      ]
    },
    {
      "cell_type": "markdown",
      "id": "2a86b052-ee91-4cd1-946e-2e0c4c8e52ed",
      "metadata": {},
      "source": [
        "## Fast Finalization using SQL: Out-of-Core Data Querying\n",
        "\n"
      ]
    },
    {
      "cell_type": "markdown",
      "id": "31b264dc-6988-49c0-8d0c-eb5ce0eb3339",
      "metadata": {},
      "source": [
        "### Create the Database\n",
        "\n",
        "Run the following code to create an SQLite3 file called 'gapminder.db', which contains the gapminder data.\n",
        "\n",
        "This is the file we'll be pulling data from!"
      ]
    },
    {
      "cell_type": "code",
      "execution_count": 91,
      "id": "9cffad5a-477e-47cb-84dd-b32b9ccf5848",
      "metadata": {},
      "outputs": [],
      "source": [
        "import bokeh\n",
        "# bokeh.sampledata.download()\n",
        "from bokeh.sampledata import gapminder\n",
        "for name in ['population', 'fertility', 'life_expectancy', 'regions']:\n",
        "    df = getattr(gapminder, name)\n",
        "    if 'Group' in df:\n",
        "        df = df.rename(columns={'Group': 'Continent'})\n",
        "    df.to_sql(name, 'sqlite:///gapminder.db', if_exists='replace')\n"
      ]
    },
    {
      "cell_type": "markdown",
      "id": "db8b73bd-baa9-48ed-a429-2c23eddd7e26",
      "metadata": {},
      "source": [
        "## Queries in SQL using Pandas\n",
        "\n",
        "Reading in data from an sql database in Pandas is done using the SQLAlchemy library.  Instead of a filename, you'll need to give a [SQLAlchemy connection string](https://docs.sqlalchemy.org/en/14/core/engines.html#database-urls) to the read function:\n",
        "\n",
        "| Function | Purpose | Example |\n",
        "| :----    | :-----  | :------ |\n",
        "| `pd.read_sql_table(table_name, conn_string)` | Reads a whole table in a database | `pd.read_sql_table('people', 'sqlite:///census.db'` |\n",
        "| `pd.read_sql_query(sql, conn_string)` | Send an sql command to a database | `pd.read_sql_query('SELECT * FROM people', 'sqlite:///census.db'` |\n"
      ]
    },
    {
      "cell_type": "markdown",
      "id": "80a036b7-1140-462f-8dc9-fbed5cb88f66",
      "metadata": {},
      "source": [
        "### Exploring a Database File\n",
        "\n",
        "Every type of SQL Datbase has a slightly different \"dialect\" of SQL (e.g. SQLite3, PostGreSQL, MySQL), but most SQL is similar.\n",
        "The biggest difference in the dialect comes up when asking meta questions about the database, two of which are very important \n",
        "when just getting started:\n",
        "\n",
        "   1. What Databases (e.g. \"Schemas\") can I get from this connection?\n",
        "   2. What Tables are in this Schema?\n",
        "   3. What Columns are in a table?\n",
        "   \n",
        "Each of this questions can be asked via a SQL query, and the answer is always a table of its own!\n",
        "\n",
        "SQLite3 only can contain a single database, so we'll look at the last two questions:\n",
        "\n",
        "| Question | Function | \n",
        "| :----    | :-----   |\n",
        "| What Tables are there? | `SELECT * FROM sqlite_master` |\n",
        "| What Columns are in this table? | `PRAGMA table_info('MyTable')`"
      ]
    },
    {
      "cell_type": "markdown",
      "id": "a66f77e0-7902-4153-b462-7b80f7a73996",
      "metadata": {},
      "source": [
        "**Exercises**\n",
        "\n",
        "Use the `pd.read_sql_query()` function to answer the following questions about the organization of the \"gapminder.db\" SQLite3 database."
      ]
    },
    {
      "cell_type": "markdown",
      "id": "ce835295-b9e3-4a18-90c3-a8ecd14e7cd2",
      "metadata": {},
      "source": [
        "What Tables are in the database?"
      ]
    },
    {
      "cell_type": "code",
      "execution_count": 189,
      "id": "e50876db-a059-4322-9607-3f30dd3ffb6a",
      "metadata": {
        "tags": [
          "exercise"
        ]
      },
      "outputs": [],
      "source": []
    },
    {
      "cell_type": "markdown",
      "id": "50a71dfb-7b98-43db-bfe5-2a79e3f846b9",
      "metadata": {},
      "source": [
        "What columns are in the population table?"
      ]
    },
    {
      "cell_type": "code",
      "execution_count": 192,
      "id": "fc2e252c-47aa-4503-9b6c-fc3f9d5ea501",
      "metadata": {
        "tags": [
          "exercise"
        ]
      },
      "outputs": [],
      "source": []
    },
    {
      "cell_type": "markdown",
      "id": "1bf3f661-3661-450c-9fe4-0c243883951e",
      "metadata": {},
      "source": [
        "What columns are in the fertility table?"
      ]
    },
    {
      "cell_type": "code",
      "execution_count": 193,
      "id": "147bcb35-9e9f-4b24-a4c9-d188d947a9b0",
      "metadata": {
        "tags": [
          "exercise"
        ]
      },
      "outputs": [],
      "source": []
    },
    {
      "cell_type": "markdown",
      "id": "6f184d77-0bc2-4ca3-8c64-6c7836f8e748",
      "metadata": {},
      "source": [
        "What columns are in the regions table?"
      ]
    },
    {
      "cell_type": "code",
      "execution_count": 194,
      "id": "53f11d8d-8ace-4729-a9a2-d3d63d8e0674",
      "metadata": {
        "tags": [
          "exercise"
        ]
      },
      "outputs": [],
      "source": []
    },
    {
      "cell_type": "markdown",
      "id": "6626a80b-b1b9-46fd-9cae-b69437f0b550",
      "metadata": {},
      "source": [
        "### Reading a Full Table: `pd.read_sql_table(table_name, conn)`\n",
        "\n",
        "If you know what table you want to read in, all you need is the table name and you're off!\n",
        "\n"
      ]
    },
    {
      "cell_type": "markdown",
      "id": "06509145-6bdc-4b22-8ea1-6b1e6bf02da4",
      "metadata": {},
      "source": [
        "**Exercises**\n",
        "\n",
        "Use `pd.read_sql_table` to read each table from the database:"
      ]
    },
    {
      "cell_type": "markdown",
      "id": "7c3185f0-5d93-4ed5-9761-a9f4dfb5a1e3",
      "metadata": {},
      "source": [
        "The fertility table:"
      ]
    },
    {
      "cell_type": "code",
      "execution_count": 195,
      "id": "34a6ca98-00ab-468d-89ae-b77c5a0143c9",
      "metadata": {
        "tags": [
          "exercise"
        ]
      },
      "outputs": [],
      "source": []
    },
    {
      "cell_type": "markdown",
      "id": "4fc8bbe0-aaf5-4bb9-b619-f24df207b9e7",
      "metadata": {},
      "source": [
        "The population table"
      ]
    },
    {
      "cell_type": "code",
      "execution_count": 196,
      "id": "51362b6f-5e4b-4e7c-8250-b2b5292ad0f2",
      "metadata": {
        "tags": [
          "exercise"
        ]
      },
      "outputs": [],
      "source": []
    },
    {
      "cell_type": "markdown",
      "id": "ffed98c3-8853-4291-8f99-74397e9b6517",
      "metadata": {},
      "source": [
        "The regions table"
      ]
    },
    {
      "cell_type": "code",
      "execution_count": 197,
      "id": "2e62cf41-41b2-4c68-b3dd-9efab44d5e6b",
      "metadata": {
        "tags": [
          "exercise"
        ]
      },
      "outputs": [],
      "source": []
    },
    {
      "cell_type": "markdown",
      "id": "66e62aca-bd01-470b-b474-1db680c58061",
      "metadata": {},
      "source": [
        "The life expectancy table"
      ]
    },
    {
      "cell_type": "code",
      "execution_count": 198,
      "id": "83b83dd9-2d10-4ecd-8934-16b7849e6cd1",
      "metadata": {
        "tags": [
          "exercise"
        ]
      },
      "outputs": [],
      "source": []
    },
    {
      "cell_type": "markdown",
      "id": "500557f7-0ec4-4ebf-82a8-18b2cf23a1d8",
      "metadata": {},
      "source": [
        "### Querying a Database: `pd.read_sql_query()`\n",
        "\n",
        "If you have a more-detailed request you want to make, you can send an SQL query to the database\n",
        "and get only the data you really want to work with.  Most queries in sql start with **SELECT**;\n",
        "What kinds of queries can you make?  A lot! Here's a cheat sheet for basic queries:\n",
        "\n",
        "[<img src=\"https://ugoproto.github.io/ugodoc/img/sql_nosql/SQL-Cheatsheet-2.png\" width=620></img>](https://ugoproto.github.io/ugodoc/img/sql_nosql/SQL-Cheatsheet-2.png)\n",
        "\n",
        "\n",
        "**Tip:**  These queries can get quite long; using python docstrings can help make it easer to read. for example:\n",
        "\n",
        "```python\n",
        "query = \"\"\"\n",
        "SELECT Name, Age FROM People\n",
        "WHERE Age > 5\n",
        "LIMIT 10\n",
        "\"\"\"\n",
        "pd.read_sql_query(query, 'sqlite:///data.db')\n",
        "```"
      ]
    },
    {
      "cell_type": "markdown",
      "id": "9b9bf28a-d522-48db-9ed8-f1978c9dfbe1",
      "metadata": {},
      "source": [
        "**Exercises**\n",
        "\n",
        "Write SQL Queries that get only the data asked for below:"
      ]
    },
    {
      "cell_type": "markdown",
      "id": "fe89bde2-0b29-45b5-88d2-88d7418f5a2f",
      "metadata": {},
      "source": [
        "Example: Get all the fertility data."
      ]
    },
    {
      "cell_type": "code",
      "execution_count": 199,
      "id": "d97b9951-24df-4734-8d33-661aad4a277a",
      "metadata": {},
      "outputs": [
        {
          "data": {
            "text/html": [
              "<div>\n",
              "<style scoped>\n",
              "    .dataframe tbody tr th:only-of-type {\n",
              "        vertical-align: middle;\n",
              "    }\n",
              "\n",
              "    .dataframe tbody tr th {\n",
              "        vertical-align: top;\n",
              "    }\n",
              "\n",
              "    .dataframe thead th {\n",
              "        text-align: right;\n",
              "    }\n",
              "</style>\n",
              "<table border=\"1\" class=\"dataframe\">\n",
              "  <thead>\n",
              "    <tr style=\"text-align: right;\">\n",
              "      <th></th>\n",
              "      <th>Country</th>\n",
              "      <th>1964</th>\n",
              "      <th>1965</th>\n",
              "      <th>1966</th>\n",
              "      <th>1967</th>\n",
              "      <th>1968</th>\n",
              "      <th>1969</th>\n",
              "      <th>1970</th>\n",
              "      <th>1971</th>\n",
              "      <th>1972</th>\n",
              "      <th>...</th>\n",
              "      <th>2004</th>\n",
              "      <th>2005</th>\n",
              "      <th>2006</th>\n",
              "      <th>2007</th>\n",
              "      <th>2008</th>\n",
              "      <th>2009</th>\n",
              "      <th>2010</th>\n",
              "      <th>2011</th>\n",
              "      <th>2012</th>\n",
              "      <th>2013</th>\n",
              "    </tr>\n",
              "  </thead>\n",
              "  <tbody>\n",
              "    <tr>\n",
              "      <th>0</th>\n",
              "      <td>Afghanistan</td>\n",
              "      <td>7.671</td>\n",
              "      <td>7.671</td>\n",
              "      <td>7.671</td>\n",
              "      <td>7.671</td>\n",
              "      <td>7.671</td>\n",
              "      <td>7.671</td>\n",
              "      <td>7.671</td>\n",
              "      <td>7.671</td>\n",
              "      <td>7.671</td>\n",
              "      <td>...</td>\n",
              "      <td>7.136</td>\n",
              "      <td>6.930</td>\n",
              "      <td>6.702</td>\n",
              "      <td>6.456</td>\n",
              "      <td>6.196</td>\n",
              "      <td>5.928</td>\n",
              "      <td>5.659</td>\n",
              "      <td>5.395</td>\n",
              "      <td>5.141</td>\n",
              "      <td>4.900</td>\n",
              "    </tr>\n",
              "    <tr>\n",
              "      <th>1</th>\n",
              "      <td>Albania</td>\n",
              "      <td>5.711</td>\n",
              "      <td>5.594</td>\n",
              "      <td>5.483</td>\n",
              "      <td>5.376</td>\n",
              "      <td>5.268</td>\n",
              "      <td>5.160</td>\n",
              "      <td>5.050</td>\n",
              "      <td>4.933</td>\n",
              "      <td>4.809</td>\n",
              "      <td>...</td>\n",
              "      <td>2.004</td>\n",
              "      <td>1.919</td>\n",
              "      <td>1.849</td>\n",
              "      <td>1.796</td>\n",
              "      <td>1.761</td>\n",
              "      <td>1.744</td>\n",
              "      <td>1.741</td>\n",
              "      <td>1.748</td>\n",
              "      <td>1.760</td>\n",
              "      <td>1.771</td>\n",
              "    </tr>\n",
              "    <tr>\n",
              "      <th>2</th>\n",
              "      <td>Algeria</td>\n",
              "      <td>7.653</td>\n",
              "      <td>7.655</td>\n",
              "      <td>7.657</td>\n",
              "      <td>7.658</td>\n",
              "      <td>7.657</td>\n",
              "      <td>7.652</td>\n",
              "      <td>7.641</td>\n",
              "      <td>7.622</td>\n",
              "      <td>7.591</td>\n",
              "      <td>...</td>\n",
              "      <td>2.448</td>\n",
              "      <td>2.507</td>\n",
              "      <td>2.580</td>\n",
              "      <td>2.656</td>\n",
              "      <td>2.725</td>\n",
              "      <td>2.781</td>\n",
              "      <td>2.817</td>\n",
              "      <td>2.829</td>\n",
              "      <td>2.820</td>\n",
              "      <td>2.795</td>\n",
              "    </tr>\n",
              "    <tr>\n",
              "      <th>3</th>\n",
              "      <td>American Samoa</td>\n",
              "      <td>NaN</td>\n",
              "      <td>NaN</td>\n",
              "      <td>NaN</td>\n",
              "      <td>NaN</td>\n",
              "      <td>NaN</td>\n",
              "      <td>NaN</td>\n",
              "      <td>NaN</td>\n",
              "      <td>NaN</td>\n",
              "      <td>NaN</td>\n",
              "      <td>...</td>\n",
              "      <td>NaN</td>\n",
              "      <td>NaN</td>\n",
              "      <td>NaN</td>\n",
              "      <td>NaN</td>\n",
              "      <td>NaN</td>\n",
              "      <td>NaN</td>\n",
              "      <td>NaN</td>\n",
              "      <td>NaN</td>\n",
              "      <td>NaN</td>\n",
              "      <td>NaN</td>\n",
              "    </tr>\n",
              "    <tr>\n",
              "      <th>4</th>\n",
              "      <td>Andorra</td>\n",
              "      <td>NaN</td>\n",
              "      <td>NaN</td>\n",
              "      <td>NaN</td>\n",
              "      <td>NaN</td>\n",
              "      <td>NaN</td>\n",
              "      <td>NaN</td>\n",
              "      <td>NaN</td>\n",
              "      <td>NaN</td>\n",
              "      <td>NaN</td>\n",
              "      <td>...</td>\n",
              "      <td>NaN</td>\n",
              "      <td>NaN</td>\n",
              "      <td>NaN</td>\n",
              "      <td>NaN</td>\n",
              "      <td>NaN</td>\n",
              "      <td>NaN</td>\n",
              "      <td>NaN</td>\n",
              "      <td>NaN</td>\n",
              "      <td>NaN</td>\n",
              "      <td>NaN</td>\n",
              "    </tr>\n",
              "  </tbody>\n",
              "</table>\n",
              "<p>5 rows \u00d7 51 columns</p>\n",
              "</div>"
            ],
            "text/plain": [
              "          Country   1964   1965   1966   1967   1968   1969   1970   1971  \\\n",
              "0     Afghanistan  7.671  7.671  7.671  7.671  7.671  7.671  7.671  7.671   \n",
              "1         Albania  5.711  5.594  5.483  5.376  5.268  5.160  5.050  4.933   \n",
              "2         Algeria  7.653  7.655  7.657  7.658  7.657  7.652  7.641  7.622   \n",
              "3  American Samoa    NaN    NaN    NaN    NaN    NaN    NaN    NaN    NaN   \n",
              "4         Andorra    NaN    NaN    NaN    NaN    NaN    NaN    NaN    NaN   \n",
              "\n",
              "    1972  ...   2004   2005   2006   2007   2008   2009   2010   2011   2012  \\\n",
              "0  7.671  ...  7.136  6.930  6.702  6.456  6.196  5.928  5.659  5.395  5.141   \n",
              "1  4.809  ...  2.004  1.919  1.849  1.796  1.761  1.744  1.741  1.748  1.760   \n",
              "2  7.591  ...  2.448  2.507  2.580  2.656  2.725  2.781  2.817  2.829  2.820   \n",
              "3    NaN  ...    NaN    NaN    NaN    NaN    NaN    NaN    NaN    NaN    NaN   \n",
              "4    NaN  ...    NaN    NaN    NaN    NaN    NaN    NaN    NaN    NaN    NaN   \n",
              "\n",
              "    2013  \n",
              "0  4.900  \n",
              "1  1.771  \n",
              "2  2.795  \n",
              "3    NaN  \n",
              "4    NaN  \n",
              "\n",
              "[5 rows x 51 columns]"
            ]
          },
          "execution_count": 199,
          "metadata": {},
          "output_type": "execute_result"
        }
      ],
      "source": [
        "query = \"\"\"\n",
        "SELECT * FROM fertility\n",
        "\"\"\"\n",
        "pd.read_sql_query(query, 'sqlite:///gapminder.db').head()"
      ]
    },
    {
      "cell_type": "markdown",
      "id": "5957d06b-0d5f-481c-8f2e-c33bab008f3d",
      "metadata": {},
      "source": [
        "Get all the popualtion data."
      ]
    },
    {
      "cell_type": "code",
      "execution_count": null,
      "id": "1daad8fc-63cf-4db9-b251-f363b0ced850",
      "metadata": {
        "tags": [
          "exercise"
        ]
      },
      "outputs": [],
      "source": []
    },
    {
      "cell_type": "markdown",
      "id": "fa6259e7-552f-45a6-833b-bd1607d70d0f",
      "metadata": {},
      "source": [
        "Get all the regions data"
      ]
    },
    {
      "cell_type": "code",
      "execution_count": null,
      "id": "dd321d31-061c-401e-8970-b6272e684010",
      "metadata": {
        "tags": [
          "exercise"
        ]
      },
      "outputs": [],
      "source": []
    },
    {
      "cell_type": "markdown",
      "id": "bc2eda1c-46c8-4b58-9d39-3dd2160368a3",
      "metadata": {},
      "source": [
        "Print the 1980 fertility data."
      ]
    },
    {
      "cell_type": "code",
      "execution_count": 28,
      "id": "34798d55-c662-4c42-a387-e5884692781f",
      "metadata": {
        "tags": [
          "exercise"
        ]
      },
      "outputs": [],
      "source": []
    },
    {
      "cell_type": "markdown",
      "id": "46a4d074-f45b-48f9-9858-3e07ed3551b0",
      "metadata": {},
      "source": [
        "Print the 2010 life expectancy data"
      ]
    },
    {
      "cell_type": "code",
      "execution_count": null,
      "id": "f029c2e1-a0cc-4b5d-b0d7-223dd3c36d2c",
      "metadata": {
        "tags": [
          "exercise"
        ]
      },
      "outputs": [],
      "source": []
    },
    {
      "cell_type": "markdown",
      "id": "f2cc25a5-c135-46e4-beef-d8bb790454ff",
      "metadata": {},
      "source": [
        "Print the 1990 and 2010 and population data"
      ]
    },
    {
      "cell_type": "code",
      "execution_count": null,
      "id": "dd2c8c65-cafc-4f9e-a6d2-e365b9fdeb11",
      "metadata": {
        "tags": [
          "exercise"
        ]
      },
      "outputs": [],
      "source": []
    },
    {
      "cell_type": "markdown",
      "id": "d4802e14-3699-42b1-882c-f0194d03add7",
      "metadata": {},
      "source": [
        "Print Italy's Population data."
      ]
    },
    {
      "cell_type": "code",
      "execution_count": 31,
      "id": "8b84c95e-45ae-4219-ae7c-16197aa71537",
      "metadata": {
        "tags": [
          "exercise"
        ]
      },
      "outputs": [],
      "source": []
    },
    {
      "cell_type": "markdown",
      "id": "19aaf6f0-9285-4b9e-8d5a-da1dc6430a6a",
      "metadata": {},
      "source": [
        "Print Germany's Population data."
      ]
    },
    {
      "cell_type": "code",
      "execution_count": null,
      "id": "1e8327a2-4581-418d-b683-d8453ba636f0",
      "metadata": {
        "tags": [
          "exercise"
        ]
      },
      "outputs": [],
      "source": []
    },
    {
      "cell_type": "markdown",
      "id": "baca98ef-c182-4f89-b060-8c52cf544b53",
      "metadata": {},
      "source": [
        "Print Mexico and Cuba's 1990 fertility data"
      ]
    },
    {
      "cell_type": "code",
      "execution_count": 228,
      "id": "19987542-9bd1-454a-99dc-957216eeeb2c",
      "metadata": {
        "tags": [
          "exercise"
        ]
      },
      "outputs": [],
      "source": []
    },
    {
      "cell_type": "code",
      "execution_count": 229,
      "id": "dd86ee53-0be6-48b3-a3f5-169c11fdc9fc",
      "metadata": {
        "tags": [
          "exercise"
        ]
      },
      "outputs": [],
      "source": []
    },
    {
      "cell_type": "markdown",
      "id": "27a00c9e-51ac-4d9b-b3bc-31b6e3077c21",
      "metadata": {},
      "source": [
        "Print the first 3 rows of the life expectancy table"
      ]
    },
    {
      "cell_type": "code",
      "execution_count": 210,
      "id": "b301ea44-a8f4-486b-8af5-fde3c57b2b89",
      "metadata": {
        "tags": [
          "exercise"
        ]
      },
      "outputs": [],
      "source": []
    },
    {
      "cell_type": "markdown",
      "id": "e8f490dc-3ce8-4087-b375-ea51e9390955",
      "metadata": {},
      "source": [
        "Print the first 3 rows of 1970's population data"
      ]
    },
    {
      "cell_type": "code",
      "execution_count": null,
      "id": "3a8766b4-5007-45e1-8e5c-a0385d6bc0c6",
      "metadata": {
        "tags": [
          "exercise"
        ]
      },
      "outputs": [],
      "source": []
    },
    {
      "cell_type": "markdown",
      "id": "e3c95ae3-5de8-4f42-bcfd-9801c8c09367",
      "metadata": {},
      "source": [
        "Print the first 7 rows of 1990's fertility data"
      ]
    },
    {
      "cell_type": "code",
      "execution_count": null,
      "id": "a29133d3-28f1-4fc3-ba2a-7e6421b18aeb",
      "metadata": {
        "tags": [
          "exercise"
        ]
      },
      "outputs": [],
      "source": []
    },
    {
      "cell_type": "markdown",
      "id": "c02e7510-2c1e-4bdf-b816-3dd4b91170a5",
      "metadata": {},
      "source": [
        "Show the Countries that had fertility rates above 6.5 people in 2004"
      ]
    },
    {
      "cell_type": "code",
      "execution_count": 242,
      "id": "731585e2-1cb7-4c6b-9d78-2eb25e279709",
      "metadata": {
        "tags": [
          "exercise"
        ]
      },
      "outputs": [],
      "source": []
    },
    {
      "cell_type": "markdown",
      "id": "485aace4-cf91-4314-9d3f-de100d3392b8",
      "metadata": {},
      "source": [
        "Show the countries that had fertility rates below 1.4 in 2010."
      ]
    },
    {
      "cell_type": "code",
      "execution_count": null,
      "id": "29c7b51d-0e9f-4b1e-8bdb-5b2e706340d4",
      "metadata": {
        "tags": [
          "exercise"
        ]
      },
      "outputs": [],
      "source": []
    },
    {
      "cell_type": "markdown",
      "id": "19b98214-6d60-48c2-b371-9af0dc5c3525",
      "metadata": {},
      "source": [
        "Show the countries that had populations above 100 million in 1980. What were their populations in 2006?"
      ]
    },
    {
      "cell_type": "code",
      "execution_count": null,
      "id": "0a1cb790-59c3-4f3e-874d-8a18628c013c",
      "metadata": {
        "tags": [
          "exercise"
        ]
      },
      "outputs": [],
      "source": []
    },
    {
      "cell_type": "markdown",
      "id": "c7aa42e6-2ae7-42da-adda-91daf801300b",
      "metadata": {},
      "source": [
        "Show the countries that are listed as being in \"Europe & Central Asia\""
      ]
    },
    {
      "cell_type": "code",
      "execution_count": null,
      "id": "9aeefe4c-d8a0-42d3-a77d-8a24bb4cb74d",
      "metadata": {
        "tags": [
          "exercise"
        ]
      },
      "outputs": [],
      "source": []
    },
    {
      "cell_type": "markdown",
      "id": "768ef6b9-85b7-4b45-8c5c-628e75a43c4a",
      "metadata": {},
      "source": [
        "### Joining Data\n",
        "\n",
        "What if you want to compare and combine data from multiple tables?  The \"Join\" command is used the same way as Pandas' Merge function: comparing two columns and matching on them. "
      ]
    },
    {
      "cell_type": "markdown",
      "id": "834d6dd2-3774-493c-a273-8f21f747b710",
      "metadata": {},
      "source": [
        "Example: Get the fertility and population rates for all countries in 1980:"
      ]
    },
    {
      "cell_type": "code",
      "execution_count": 223,
      "id": "0a7af312-c608-410d-91bd-0653120ffa6a",
      "metadata": {},
      "outputs": [
        {
          "data": {
            "text/html": [
              "<div>\n",
              "<style scoped>\n",
              "    .dataframe tbody tr th:only-of-type {\n",
              "        vertical-align: middle;\n",
              "    }\n",
              "\n",
              "    .dataframe tbody tr th {\n",
              "        vertical-align: top;\n",
              "    }\n",
              "\n",
              "    .dataframe thead th {\n",
              "        text-align: right;\n",
              "    }\n",
              "</style>\n",
              "<table border=\"1\" class=\"dataframe\">\n",
              "  <thead>\n",
              "    <tr style=\"text-align: right;\">\n",
              "      <th></th>\n",
              "      <th>Country</th>\n",
              "      <th>pop1989</th>\n",
              "      <th>fert1989</th>\n",
              "    </tr>\n",
              "  </thead>\n",
              "  <tbody>\n",
              "    <tr>\n",
              "      <th>0</th>\n",
              "      <td>American Samoa</td>\n",
              "      <td>45595.0</td>\n",
              "      <td>None</td>\n",
              "    </tr>\n",
              "    <tr>\n",
              "      <th>1</th>\n",
              "      <td>Andorra</td>\n",
              "      <td>51241.0</td>\n",
              "      <td>None</td>\n",
              "    </tr>\n",
              "    <tr>\n",
              "      <th>2</th>\n",
              "      <td>Anguilla</td>\n",
              "      <td>7964.0</td>\n",
              "      <td>None</td>\n",
              "    </tr>\n",
              "    <tr>\n",
              "      <th>3</th>\n",
              "      <td>Bermuda</td>\n",
              "      <td>59416.0</td>\n",
              "      <td>None</td>\n",
              "    </tr>\n",
              "    <tr>\n",
              "      <th>4</th>\n",
              "      <td>British Virgin Islands</td>\n",
              "      <td>15926.0</td>\n",
              "      <td>None</td>\n",
              "    </tr>\n",
              "  </tbody>\n",
              "</table>\n",
              "</div>"
            ],
            "text/plain": [
              "                  Country  pop1989 fert1989\n",
              "0          American Samoa  45595.0     None\n",
              "1                 Andorra  51241.0     None\n",
              "2                Anguilla   7964.0     None\n",
              "3                 Bermuda  59416.0     None\n",
              "4  British Virgin Islands  15926.0     None"
            ]
          },
          "execution_count": 223,
          "metadata": {},
          "output_type": "execute_result"
        }
      ],
      "source": [
        "query = \"\"\"\n",
        "SELECT \n",
        "  p.Country, \n",
        "  p.\"1989\" pop1989, \n",
        "  f.\"1989\" fert1989 \n",
        "FROM population p\n",
        "INNER JOIN fertility f ON p.Country = f.Country\n",
        "ORDER BY f.\"2010\"\n",
        "LIMIT 5\n",
        "\"\"\"\n",
        "pd.read_sql_query(query, 'sqlite:///gapminder.db')"
      ]
    },
    {
      "cell_type": "code",
      "execution_count": 160,
      "id": "4b7231cb-6547-4bd7-ac20-6d14b6cf2878",
      "metadata": {
        "tags": [
          "exercise"
        ]
      },
      "outputs": [],
      "source": []
    },
    {
      "cell_type": "code",
      "execution_count": 172,
      "id": "c162cd2c-1cff-4d4c-91c8-861c4806a5e2",
      "metadata": {
        "tags": [
          "exercise"
        ]
      },
      "outputs": [],
      "source": []
    },
    {
      "cell_type": "markdown",
      "id": "6aa3d2d9-28bc-4241-8a83-8cb05c753d0f",
      "metadata": {},
      "source": [
        "Get the life expectancy and fertility rates for all countries in 1990:"
      ]
    },
    {
      "cell_type": "code",
      "execution_count": null,
      "id": "b1ac5f01-732a-4502-890a-2e77cdb4d97b",
      "metadata": {
        "tags": [
          "exercise"
        ]
      },
      "outputs": [],
      "source": []
    },
    {
      "cell_type": "markdown",
      "id": "10126a54-afa1-4e4d-aaa5-7f193dc67760",
      "metadata": {},
      "source": [
        "Get the life expectancy and fertility rates for all France in 1988:"
      ]
    },
    {
      "cell_type": "code",
      "execution_count": null,
      "id": "7188bd36-e17d-469c-965a-466674821fcb",
      "metadata": {
        "tags": [
          "exercise"
        ]
      },
      "outputs": [],
      "source": []
    },
    {
      "cell_type": "markdown",
      "id": "4469e01b-0894-40a1-a5eb-12fba5873208",
      "metadata": {},
      "source": [
        "Get the life expectancy in 2005 for all countries with fertility rates in 2005 less than 1.6.\n",
        "Which countries are included?"
      ]
    },
    {
      "cell_type": "code",
      "execution_count": null,
      "id": "3390123a-249c-4078-983e-a62793809b08",
      "metadata": {
        "tags": [
          "exercise"
        ]
      },
      "outputs": [],
      "source": []
    },
    {
      "cell_type": "markdown",
      "id": "45fa94e6-323f-41db-9c46-e64ed1f79b76",
      "metadata": {},
      "source": [
        "Get the population of all countries with life expectancies of greater than 80 years in 2000."
      ]
    },
    {
      "cell_type": "code",
      "execution_count": null,
      "id": "0a12d9d0-72bd-413a-ac14-caf3366f9b3c",
      "metadata": {
        "tags": [
          "exercise"
        ]
      },
      "outputs": [],
      "source": []
    },
    {
      "cell_type": "markdown",
      "id": "63bf8003-50e2-481d-a11c-337aeeae84ee",
      "metadata": {},
      "source": [
        "Get the fertility rates of all countries in Europe"
      ]
    },
    {
      "cell_type": "code",
      "execution_count": null,
      "id": "c461dfc7-e621-401a-8cbd-98ea5784d1d9",
      "metadata": {
        "tags": [
          "exercise"
        ]
      },
      "outputs": [],
      "source": []
    },
    {
      "cell_type": "markdown",
      "id": "b8b77ba3-912a-4eb7-a815-8636ecff0d41",
      "metadata": {},
      "source": [
        "Get the population of all countries in Sub-saharan Africa"
      ]
    },
    {
      "cell_type": "code",
      "execution_count": null,
      "id": "babf5396-ac28-4baa-beff-cdd6bebdb9bc",
      "metadata": {
        "tags": [
          "exercise"
        ]
      },
      "outputs": [],
      "source": []
    },
    {
      "cell_type": "markdown",
      "id": "768ec48b-eaf8-4bd1-8d1d-ce79eb25eae5",
      "metadata": {},
      "source": [
        "### Group By: Doing Statistics through SQL\n",
        "\n",
        "https://www.sqlitetutorial.net/sqlite-group-by/\n",
        "\n",
        "Aggregation functions: `AVG()`, `SUM()`, `MIN()`, `MAX()`"
      ]
    },
    {
      "cell_type": "code",
      "execution_count": 182,
      "id": "f467f2fd-1715-45d6-96a4-090d174d0b51",
      "metadata": {},
      "outputs": [
        {
          "data": {
            "text/html": [
              "<div>\n",
              "<style scoped>\n",
              "    .dataframe tbody tr th:only-of-type {\n",
              "        vertical-align: middle;\n",
              "    }\n",
              "\n",
              "    .dataframe tbody tr th {\n",
              "        vertical-align: top;\n",
              "    }\n",
              "\n",
              "    .dataframe thead th {\n",
              "        text-align: right;\n",
              "    }\n",
              "</style>\n",
              "<table border=\"1\" class=\"dataframe\">\n",
              "  <thead>\n",
              "    <tr style=\"text-align: right;\">\n",
              "      <th></th>\n",
              "      <th>Continent</th>\n",
              "      <th>Country</th>\n",
              "      <th>meanPop1980</th>\n",
              "    </tr>\n",
              "  </thead>\n",
              "  <tbody>\n",
              "    <tr>\n",
              "      <th>0</th>\n",
              "      <td>Sub-Saharan Africa</td>\n",
              "      <td>Angola</td>\n",
              "      <td>7.636512e+06</td>\n",
              "    </tr>\n",
              "    <tr>\n",
              "      <th>1</th>\n",
              "      <td>Middle East &amp; North Africa</td>\n",
              "      <td>Algeria</td>\n",
              "      <td>8.896094e+06</td>\n",
              "    </tr>\n",
              "    <tr>\n",
              "      <th>2</th>\n",
              "      <td>America</td>\n",
              "      <td>Anguilla</td>\n",
              "      <td>1.233459e+07</td>\n",
              "    </tr>\n",
              "    <tr>\n",
              "      <th>3</th>\n",
              "      <td>Europe &amp; Central Asia</td>\n",
              "      <td>Albania</td>\n",
              "      <td>1.254172e+07</td>\n",
              "    </tr>\n",
              "    <tr>\n",
              "      <th>4</th>\n",
              "      <td>East Asia &amp; Pacific</td>\n",
              "      <td>American Samoa</td>\n",
              "      <td>3.629319e+07</td>\n",
              "    </tr>\n",
              "    <tr>\n",
              "      <th>5</th>\n",
              "      <td>South Asia</td>\n",
              "      <td>Afghanistan</td>\n",
              "      <td>1.132596e+08</td>\n",
              "    </tr>\n",
              "  </tbody>\n",
              "</table>\n",
              "</div>"
            ],
            "text/plain": [
              "                    Continent         Country   meanPop1980\n",
              "0          Sub-Saharan Africa          Angola  7.636512e+06\n",
              "1  Middle East & North Africa         Algeria  8.896094e+06\n",
              "2                     America        Anguilla  1.233459e+07\n",
              "3       Europe & Central Asia         Albania  1.254172e+07\n",
              "4         East Asia & Pacific  American Samoa  3.629319e+07\n",
              "5                  South Asia     Afghanistan  1.132596e+08"
            ]
          },
          "execution_count": 182,
          "metadata": {},
          "output_type": "execute_result"
        }
      ],
      "source": [
        "query = \"\"\"\n",
        "SELECT regions.Continent, regions.Country, AVG(population.\"1980\") meanPop1980 FROM population\n",
        "INNER JOIN regions ON population.Country = regions.Country\n",
        "GROUP BY Continent\n",
        "ORDER BY meanPop1980\n",
        "\"\"\"\n",
        "pd.read_sql_query(query, 'sqlite:///gapminder.db')"
      ]
    },
    {
      "cell_type": "markdown",
      "id": "867edefa-1e43-4ed0-ade8-cb775a6c1e39",
      "metadata": {},
      "source": [
        "Which continents had the highest average population in 1990?"
      ]
    },
    {
      "cell_type": "code",
      "execution_count": null,
      "id": "3c17a9d6-8790-4232-be10-10270c5ed3a1",
      "metadata": {
        "tags": [
          "exercise"
        ]
      },
      "outputs": [],
      "source": []
    },
    {
      "cell_type": "markdown",
      "id": "1a9ff55c-b3a5-4bd5-82e6-ead1bf3d32cc",
      "metadata": {},
      "source": [
        "Which continents had the 2 lowest fertility rates in 2000?"
      ]
    },
    {
      "cell_type": "code",
      "execution_count": null,
      "id": "25b01030-d69c-4020-b843-ff70f75c0010",
      "metadata": {
        "tags": [
          "exercise"
        ]
      },
      "outputs": [],
      "source": []
    }
  ],
  "metadata": {
    "kernelspec": {
      "display_name": "Python 3",
      "language": "python",
      "name": "python3"
    },
    "language_info": {
      "codemirror_mode": {
        "name": "ipython",
        "version": 3
      },
      "file_extension": ".py",
      "mimetype": "text/x-python",
      "name": "python",
      "nbconvert_exporter": "python",
      "pygments_lexer": "ipython3",
      "version": "3.9.12"
    }
  },
  "nbformat": 4,
  "nbformat_minor": 5
}